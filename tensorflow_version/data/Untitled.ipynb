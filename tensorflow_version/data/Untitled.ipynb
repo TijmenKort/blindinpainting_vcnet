{
 "cells": [
  {
   "cell_type": "code",
   "execution_count": 1,
   "id": "19458624",
   "metadata": {},
   "outputs": [],
   "source": [
    "import os\n",
    "import glob"
   ]
  },
  {
   "cell_type": "code",
   "execution_count": 7,
   "id": "eb4804a8",
   "metadata": {},
   "outputs": [],
   "source": [
    "with open('ffhq/masks.txt', 'w') as f:\n",
    "    for name in os.listdir('ffhq'):\n",
    "        f.write('data/ffhq/'+name+'\\n')"
   ]
  },
  {
   "cell_type": "code",
   "execution_count": 2,
   "id": "619f29c9",
   "metadata": {},
   "outputs": [],
   "source": [
    "getFileList = lambda f: open(f, 'rt').read().splitlines() \\\n",
    "            if os.path.isfile(f) else glob.glob(os.path.join(f, '*.png')) + glob.glob(os.path.join(f, '*.jpg'))\n",
    "        "
   ]
  },
  {
   "cell_type": "code",
   "execution_count": null,
   "id": "b644d3b0",
   "metadata": {},
   "outputs": [],
   "source": []
  }
 ],
 "metadata": {
  "kernelspec": {
   "display_name": "Python 3",
   "language": "python",
   "name": "python3"
  },
  "language_info": {
   "codemirror_mode": {
    "name": "ipython",
    "version": 3
   },
   "file_extension": ".py",
   "mimetype": "text/x-python",
   "name": "python",
   "nbconvert_exporter": "python",
   "pygments_lexer": "ipython3",
   "version": "3.6.13"
  }
 },
 "nbformat": 4,
 "nbformat_minor": 5
}
